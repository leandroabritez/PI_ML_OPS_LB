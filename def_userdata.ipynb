{
 "cells": [
  {
   "cell_type": "code",
   "execution_count": 11,
   "metadata": {},
   "outputs": [],
   "source": [
    "import pandas as pd\n",
    "from ast import literal_eval\n",
    "\n",
    "# Cargar el archivo CSV\n",
    "user_items = pd.read_csv('user_items.csv', converters={'items': literal_eval})\n",
    "data_games = pd.read_csv('steam_games.csv')"
   ]
  },
  {
   "cell_type": "code",
   "execution_count": 3,
   "metadata": {},
   "outputs": [
    {
     "name": "stdout",
     "output_type": "stream",
     "text": [
      "Index(['user_id', 'items_cleaned'], dtype='object')\n"
     ]
    }
   ],
   "source": [
    "print(user_items.columns)"
   ]
  },
  {
   "cell_type": "code",
   "execution_count": 8,
   "metadata": {},
   "outputs": [],
   "source": [
    "import pandas as pd\n",
    "from ast import literal_eval\n",
    "\n",
    "# Cargar el archivo CSV\n",
    "user_items = pd.read_csv('user_items.csv', converters={'items_cleaned': literal_eval})\n",
    "\n",
    "# Crear una lista para almacenar los DataFrames\n",
    "dfs = []\n",
    "\n",
    "# Iterar sobre el DataFrame 'user_items'\n",
    "for index, row in user_items.iterrows():\n",
    "    user_id = row['user_id']\n",
    "    items_cleaned = row['items_cleaned']\n",
    "    \n",
    "    # Crear una lista para almacenar las filas de cada usuario\n",
    "    rows = []\n",
    "\n",
    "    # Iterar sobre los items de cada usuario\n",
    "    for item in items_cleaned:\n",
    "        item_id = item['item_id']\n",
    "        rows.append({'user_id': user_id, 'item_id': item_id})\n",
    "\n",
    "    # Agregar la lista de filas al DataFrame\n",
    "    temp_df = pd.DataFrame(rows)\n",
    "\n",
    "    # Agregar el DataFrame temporal a la lista\n",
    "    dfs.append(temp_df)\n",
    "\n",
    "# Concatenar todos los DataFrames en uno solo\n",
    "user_item_mapping = pd.concat(dfs, ignore_index=True)\n",
    "\n",
    "# Guardar el resultado en un archivo CSV\n",
    "user_item_mapping.to_csv('user_item_mapping.csv', index=False)\n"
   ]
  },
  {
   "cell_type": "code",
   "execution_count": 9,
   "metadata": {},
   "outputs": [
    {
     "data": {
      "text/html": [
       "<div>\n",
       "<style scoped>\n",
       "    .dataframe tbody tr th:only-of-type {\n",
       "        vertical-align: middle;\n",
       "    }\n",
       "\n",
       "    .dataframe tbody tr th {\n",
       "        vertical-align: top;\n",
       "    }\n",
       "\n",
       "    .dataframe thead th {\n",
       "        text-align: right;\n",
       "    }\n",
       "</style>\n",
       "<table border=\"1\" class=\"dataframe\">\n",
       "  <thead>\n",
       "    <tr style=\"text-align: right;\">\n",
       "      <th></th>\n",
       "      <th>user_id</th>\n",
       "      <th>item_id</th>\n",
       "    </tr>\n",
       "  </thead>\n",
       "  <tbody>\n",
       "    <tr>\n",
       "      <th>0</th>\n",
       "      <td>76561197970982479</td>\n",
       "      <td>10</td>\n",
       "    </tr>\n",
       "    <tr>\n",
       "      <th>1</th>\n",
       "      <td>76561197970982479</td>\n",
       "      <td>20</td>\n",
       "    </tr>\n",
       "    <tr>\n",
       "      <th>2</th>\n",
       "      <td>76561197970982479</td>\n",
       "      <td>30</td>\n",
       "    </tr>\n",
       "    <tr>\n",
       "      <th>3</th>\n",
       "      <td>76561197970982479</td>\n",
       "      <td>40</td>\n",
       "    </tr>\n",
       "    <tr>\n",
       "      <th>4</th>\n",
       "      <td>76561197970982479</td>\n",
       "      <td>50</td>\n",
       "    </tr>\n",
       "    <tr>\n",
       "      <th>...</th>\n",
       "      <td>...</td>\n",
       "      <td>...</td>\n",
       "    </tr>\n",
       "    <tr>\n",
       "      <th>5153204</th>\n",
       "      <td>76561198329548331</td>\n",
       "      <td>346330</td>\n",
       "    </tr>\n",
       "    <tr>\n",
       "      <th>5153205</th>\n",
       "      <td>76561198329548331</td>\n",
       "      <td>373330</td>\n",
       "    </tr>\n",
       "    <tr>\n",
       "      <th>5153206</th>\n",
       "      <td>76561198329548331</td>\n",
       "      <td>388490</td>\n",
       "    </tr>\n",
       "    <tr>\n",
       "      <th>5153207</th>\n",
       "      <td>76561198329548331</td>\n",
       "      <td>521570</td>\n",
       "    </tr>\n",
       "    <tr>\n",
       "      <th>5153208</th>\n",
       "      <td>76561198329548331</td>\n",
       "      <td>519140</td>\n",
       "    </tr>\n",
       "  </tbody>\n",
       "</table>\n",
       "<p>5153209 rows × 2 columns</p>\n",
       "</div>"
      ],
      "text/plain": [
       "                   user_id item_id\n",
       "0        76561197970982479      10\n",
       "1        76561197970982479      20\n",
       "2        76561197970982479      30\n",
       "3        76561197970982479      40\n",
       "4        76561197970982479      50\n",
       "...                    ...     ...\n",
       "5153204  76561198329548331  346330\n",
       "5153205  76561198329548331  373330\n",
       "5153206  76561198329548331  388490\n",
       "5153207  76561198329548331  521570\n",
       "5153208  76561198329548331  519140\n",
       "\n",
       "[5153209 rows x 2 columns]"
      ]
     },
     "execution_count": 9,
     "metadata": {},
     "output_type": "execute_result"
    }
   ],
   "source": [
    "user_item_mapping"
   ]
  },
  {
   "cell_type": "code",
   "execution_count": 12,
   "metadata": {},
   "outputs": [
    {
     "name": "stdout",
     "output_type": "stream",
     "text": [
      "<class 'pandas.core.frame.DataFrame'>\n",
      "RangeIndex: 30067 entries, 0 to 30066\n",
      "Data columns (total 9 columns):\n",
      " #   Column     Non-Null Count  Dtype  \n",
      "---  ------     --------------  -----  \n",
      " 0   genres     28833 non-null  object \n",
      " 1   app_name   30067 non-null  object \n",
      " 2   title      30067 non-null  object \n",
      " 3   tags       29906 non-null  object \n",
      " 4   specs      29398 non-null  object \n",
      " 5   price      27242 non-null  float64\n",
      " 6   id         30066 non-null  float64\n",
      " 7   developer  28818 non-null  object \n",
      " 8   year       29782 non-null  float64\n",
      "dtypes: float64(3), object(6)\n",
      "memory usage: 2.1+ MB\n"
     ]
    }
   ],
   "source": [
    "data_games.info()"
   ]
  },
  {
   "cell_type": "code",
   "execution_count": 21,
   "metadata": {},
   "outputs": [],
   "source": [
    "# Agrupar por 'id' y calcular la suma de 'price' para cada grupo\n",
    "sum_price_by_id = data_games.groupby('id')['price'].sum().reset_index()\n",
    "\n",
    "# Seleccionar solo las columnas 'id' y 'price_total'\n",
    "result_df = sum_price_by_id[['id', 'price']]\n",
    "\n",
    "# Renombrar la columna 'price' a 'total_price'\n",
    "result_df = result_df.rename(columns={'price': 'total_price'})\n",
    "\n",
    "# Guardar el resultado en un nuevo archivo CSV\n",
    "result_df.to_csv('steam_games_with_total_price.csv', index=False)\n"
   ]
  },
  {
   "cell_type": "code",
   "execution_count": 14,
   "metadata": {},
   "outputs": [],
   "source": [
    "user_reviews = pd.read_csv('user_reviews.csv', converters={'items': literal_eval})"
   ]
  },
  {
   "cell_type": "code",
   "execution_count": 15,
   "metadata": {},
   "outputs": [
    {
     "name": "stdout",
     "output_type": "stream",
     "text": [
      "<class 'pandas.core.frame.DataFrame'>\n",
      "RangeIndex: 25799 entries, 0 to 25798\n",
      "Data columns (total 3 columns):\n",
      " #   Column    Non-Null Count  Dtype \n",
      "---  ------    --------------  ----- \n",
      " 0   user_id   25799 non-null  object\n",
      " 1   user_url  25799 non-null  object\n",
      " 2   reviews   25799 non-null  object\n",
      "dtypes: object(3)\n",
      "memory usage: 604.8+ KB\n"
     ]
    }
   ],
   "source": [
    "user_reviews.info()"
   ]
  },
  {
   "cell_type": "code",
   "execution_count": 19,
   "metadata": {},
   "outputs": [],
   "source": [
    "# Inicializar una lista para almacenar los resultados\n",
    "result_list = []\n",
    "\n",
    "# Iterar sobre cada fila del DataFrame original\n",
    "for index, row in user_reviews.iterrows():\n",
    "    user_id = row['user_id']\n",
    "    reviews = row['reviews']\n",
    "\n",
    "    # Inicializar contadores\n",
    "    total_reviews = 0\n",
    "    true_reviews = 0\n",
    "\n",
    "    # Iterar sobre cada review del usuario\n",
    "    for review in reviews:\n",
    "        # Obtener el valor de 'recommend'\n",
    "        recommend_value = review.get('recommend', False)\n",
    "\n",
    "        # Actualizar contadores\n",
    "        total_reviews += 1\n",
    "        if recommend_value:\n",
    "            true_reviews += 1\n",
    "\n",
    "    # Calcular el porcentaje de 'True' sobre el total de recomendaciones\n",
    "    if total_reviews > 0:\n",
    "        recommend_percentage = (true_reviews / total_reviews) * 100\n",
    "    else:\n",
    "        recommend_percentage = 0\n",
    "\n",
    "    # Agregar resultados a la lista\n",
    "    result_list.append({\n",
    "        'user_id': user_id,\n",
    "        'recommend_percentage': recommend_percentage\n",
    "    })\n",
    "\n",
    "# Convertir la lista en un DataFrame\n",
    "result_df = pd.DataFrame(result_list)\n",
    "\n",
    "# Guardar el resultado en un nuevo archivo CSV\n",
    "result_df.to_csv('user_recommend_percentage.csv', index=False)\n"
   ]
  },
  {
   "cell_type": "code",
   "execution_count": 20,
   "metadata": {},
   "outputs": [
    {
     "data": {
      "text/html": [
       "<div>\n",
       "<style scoped>\n",
       "    .dataframe tbody tr th:only-of-type {\n",
       "        vertical-align: middle;\n",
       "    }\n",
       "\n",
       "    .dataframe tbody tr th {\n",
       "        vertical-align: top;\n",
       "    }\n",
       "\n",
       "    .dataframe thead th {\n",
       "        text-align: right;\n",
       "    }\n",
       "</style>\n",
       "<table border=\"1\" class=\"dataframe\">\n",
       "  <thead>\n",
       "    <tr style=\"text-align: right;\">\n",
       "      <th></th>\n",
       "      <th>user_id</th>\n",
       "      <th>recommend_percentage</th>\n",
       "    </tr>\n",
       "  </thead>\n",
       "  <tbody>\n",
       "    <tr>\n",
       "      <th>0</th>\n",
       "      <td>76561197970982479</td>\n",
       "      <td>100.0</td>\n",
       "    </tr>\n",
       "    <tr>\n",
       "      <th>1</th>\n",
       "      <td>js41637</td>\n",
       "      <td>100.0</td>\n",
       "    </tr>\n",
       "    <tr>\n",
       "      <th>2</th>\n",
       "      <td>evcentric</td>\n",
       "      <td>100.0</td>\n",
       "    </tr>\n",
       "    <tr>\n",
       "      <th>3</th>\n",
       "      <td>doctr</td>\n",
       "      <td>100.0</td>\n",
       "    </tr>\n",
       "    <tr>\n",
       "      <th>4</th>\n",
       "      <td>maplemage</td>\n",
       "      <td>100.0</td>\n",
       "    </tr>\n",
       "    <tr>\n",
       "      <th>...</th>\n",
       "      <td>...</td>\n",
       "      <td>...</td>\n",
       "    </tr>\n",
       "    <tr>\n",
       "      <th>25794</th>\n",
       "      <td>76561198306599751</td>\n",
       "      <td>100.0</td>\n",
       "    </tr>\n",
       "    <tr>\n",
       "      <th>25795</th>\n",
       "      <td>Ghoustik</td>\n",
       "      <td>100.0</td>\n",
       "    </tr>\n",
       "    <tr>\n",
       "      <th>25796</th>\n",
       "      <td>76561198310819422</td>\n",
       "      <td>100.0</td>\n",
       "    </tr>\n",
       "    <tr>\n",
       "      <th>25797</th>\n",
       "      <td>76561198312638244</td>\n",
       "      <td>100.0</td>\n",
       "    </tr>\n",
       "    <tr>\n",
       "      <th>25798</th>\n",
       "      <td>LydiaMorley</td>\n",
       "      <td>100.0</td>\n",
       "    </tr>\n",
       "  </tbody>\n",
       "</table>\n",
       "<p>25799 rows × 2 columns</p>\n",
       "</div>"
      ],
      "text/plain": [
       "                 user_id  recommend_percentage\n",
       "0      76561197970982479                 100.0\n",
       "1                js41637                 100.0\n",
       "2              evcentric                 100.0\n",
       "3                  doctr                 100.0\n",
       "4              maplemage                 100.0\n",
       "...                  ...                   ...\n",
       "25794  76561198306599751                 100.0\n",
       "25795           Ghoustik                 100.0\n",
       "25796  76561198310819422                 100.0\n",
       "25797  76561198312638244                 100.0\n",
       "25798        LydiaMorley                 100.0\n",
       "\n",
       "[25799 rows x 2 columns]"
      ]
     },
     "execution_count": 20,
     "metadata": {},
     "output_type": "execute_result"
    }
   ],
   "source": [
    "result_df"
   ]
  },
  {
   "cell_type": "code",
   "execution_count": 22,
   "metadata": {},
   "outputs": [],
   "source": [
    "user_item_mapping = pd.read_csv('user_item_mapping.csv')\n",
    "steam_games_with_total_price = pd.read_csv('steam_games_with_total_price.csv')\n",
    "user_recommend_percentage = pd.read_csv('user_recommend_percentage.csv')\n",
    "\n",
    "# Contar la cantidad de registros por 'user_id'\n",
    "count_item_df = user_item_mapping.groupby('user_id').size().reset_index(name='count_item')\n"
   ]
  },
  {
   "cell_type": "code",
   "execution_count": 23,
   "metadata": {},
   "outputs": [],
   "source": [
    "# Fusionar user_item_mapping con steam_games_with_total_price\n",
    "merged_df = pd.merge(user_item_mapping, steam_games_with_total_price, left_on='item_id', right_on='id')\n",
    "\n",
    "# Agrupar por 'user_id' y calcular la suma de 'total_price'\n",
    "sum_price_df = merged_df.groupby('user_id')['total_price'].sum().reset_index(name='sum_price')\n"
   ]
  },
  {
   "cell_type": "code",
   "execution_count": 24,
   "metadata": {},
   "outputs": [],
   "source": [
    "# Fusionar count_item_df y sum_price_df\n",
    "result_df = pd.merge(count_item_df, sum_price_df, on='user_id', how='left')\n",
    "\n",
    "# Fusionar result_df con user_recommend_percentage\n",
    "result_df = pd.merge(result_df, user_recommend_percentage, on='user_id', how='left')\n"
   ]
  },
  {
   "cell_type": "code",
   "execution_count": 25,
   "metadata": {},
   "outputs": [],
   "source": [
    "result_df.to_csv('def_userdata.csv', index=False)\n"
   ]
  },
  {
   "cell_type": "code",
   "execution_count": 33,
   "metadata": {},
   "outputs": [],
   "source": [
    "import pandas as pd\n",
    "\n",
    "def userdata(user_id):\n",
    "    # Leer el archivo result_file.csv\n",
    "    result_df = pd.read_csv('def_userdata.csv')\n",
    "\n",
    "    # Filtrar el DataFrame para el usuario específico\n",
    "    user_data = result_df[result_df['user_id'] == user_id]\n",
    "\n",
    "    # Verificar si el usuario existe\n",
    "    if user_data.empty:\n",
    "        return {\"error\": \"Usuario no encontrado\"}\n",
    "\n",
    "    # Obtener los valores requeridos\n",
    "    dinero_gastado = user_data['sum_price'].values[0]\n",
    "    recomendacion_pct = user_data['recommend_percentage'].values[0]\n",
    "    cantidad_items = user_data['count_item'].values[0]\n",
    "\n",
    "    # Formatear el porcentaje de recomendación\n",
    "    recomendacion_pct_str = f\"{recomendacion_pct * 1:.2f}%\"\n",
    "\n",
    "    # Construir el diccionario de resultados\n",
    "    result_dict = {\n",
    "        \"Usuario X\": user_id,\n",
    "        \"Dinero gastado\": f\"{dinero_gastado:.2f} USD\",\n",
    "        \"% de recomendación\": recomendacion_pct_str,\n",
    "        \"cantidad de items\": cantidad_items\n",
    "    }\n",
    "\n",
    "    return result_dict\n",
    "\n"
   ]
  },
  {
   "cell_type": "code",
   "execution_count": 34,
   "metadata": {},
   "outputs": [
    {
     "name": "stdout",
     "output_type": "stream",
     "text": [
      "{'Usuario X': '76561197970982479', 'Dinero gastado': '3419.32 USD', '% de recomendación': '100.00%', 'cantidad de items': 277}\n"
     ]
    }
   ],
   "source": [
    "usuario_resultado = userdata('76561197970982479')\n",
    "print(usuario_resultado)"
   ]
  }
 ],
 "metadata": {
  "kernelspec": {
   "display_name": "Python 3",
   "language": "python",
   "name": "python3"
  },
  "language_info": {
   "codemirror_mode": {
    "name": "ipython",
    "version": 3
   },
   "file_extension": ".py",
   "mimetype": "text/x-python",
   "name": "python",
   "nbconvert_exporter": "python",
   "pygments_lexer": "ipython3",
   "version": "3.11.4"
  }
 },
 "nbformat": 4,
 "nbformat_minor": 2
}
