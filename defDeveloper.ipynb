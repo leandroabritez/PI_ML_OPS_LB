{
 "cells": [
  {
   "cell_type": "code",
   "execution_count": 22,
   "metadata": {},
   "outputs": [
    {
     "name": "stdout",
     "output_type": "stream",
     "text": [
      "<class 'pandas.core.frame.DataFrame'>\n",
      "RangeIndex: 30067 entries, 0 to 30066\n",
      "Data columns (total 9 columns):\n",
      " #   Column     Non-Null Count  Dtype  \n",
      "---  ------     --------------  -----  \n",
      " 0   genres     28833 non-null  object \n",
      " 1   app_name   30067 non-null  object \n",
      " 2   title      30067 non-null  object \n",
      " 3   tags       29906 non-null  object \n",
      " 4   specs      29398 non-null  object \n",
      " 5   price      27242 non-null  float64\n",
      " 6   id         30066 non-null  float64\n",
      " 7   developer  28818 non-null  object \n",
      " 8   year       29782 non-null  float64\n",
      "dtypes: float64(3), object(6)\n",
      "memory usage: 2.1+ MB\n"
     ]
    }
   ],
   "source": [
    "import pandas as pd\n",
    "data_games = pd.read_csv('steam_games.csv')\n",
    "data_games.info()"
   ]
  },
  {
   "cell_type": "code",
   "execution_count": 23,
   "metadata": {},
   "outputs": [
    {
     "name": "stdout",
     "output_type": "stream",
     "text": [
      "      año  cantidad de items  contenido free\n",
      "0  2017.0                  1             0.0\n",
      "1  2016.0                  1             0.0\n",
      "2  2015.0                  1             0.0\n",
      "3  2014.0                  2            50.0\n",
      "4  2018.0                  1           100.0\n"
     ]
    }
   ],
   "source": [
    "import pandas as pd\n",
    "\n",
    "def developer(data, developer):\n",
    "    # Filtrar por el desarrollador\n",
    "    developer_data = data[data['developer'] == developer]\n",
    "\n",
    "    # Crear una lista para almacenar los DataFrames de cada año\n",
    "    dfs = []\n",
    "\n",
    "    # Obtener años únicos\n",
    "    unique_years = developer_data['year'].unique()\n",
    "\n",
    "    for year in unique_years:\n",
    "        # Filtrar por año\n",
    "        year_data = developer_data[developer_data['year'] == year]\n",
    "\n",
    "        # Contar la cantidad de items\n",
    "        item_count = len(year_data)\n",
    "\n",
    "        # Calcular el contenido free\n",
    "        free_content_percentage = (year_data['price'].fillna(0) == 0).mean() * 100\n",
    "\n",
    "        # Crear un DataFrame para el año actual solo si hay registros\n",
    "        if item_count > 0:\n",
    "            year_df = pd.DataFrame({\n",
    "                'año': [year],\n",
    "                'cantidad de items': [item_count],\n",
    "                'contenido free': [free_content_percentage]\n",
    "            })\n",
    "\n",
    "            # Agregar el DataFrame al a lista\n",
    "            dfs.append(year_df)\n",
    "\n",
    "    # Verificar si hay DataFrames en la lista antes de concatenar\n",
    "    if dfs:\n",
    "        # Concatenar todos los DataFrames en uno solo\n",
    "        result_df = pd.concat(dfs, ignore_index=True)\n",
    "    else:\n",
    "        # Si no hay registros, crear un DataFrame vacío\n",
    "        result_df = pd.DataFrame(columns=['año', 'cantidad de items', 'contenido free'])\n",
    "\n",
    "    return result_df\n",
    "\n",
    "# Ejemplo de uso\n",
    "data_games = pd.read_csv('steam_games.csv')\n",
    "resultados = developer(data_games, 'Retro Army Limited')\n",
    "print(resultados)\n"
   ]
  }
 ],
 "metadata": {
  "kernelspec": {
   "display_name": "Python 3",
   "language": "python",
   "name": "python3"
  },
  "language_info": {
   "codemirror_mode": {
    "name": "ipython",
    "version": 3
   },
   "file_extension": ".py",
   "mimetype": "text/x-python",
   "name": "python",
   "nbconvert_exporter": "python",
   "pygments_lexer": "ipython3",
   "version": "3.11.4"
  }
 },
 "nbformat": 4,
 "nbformat_minor": 2
}
