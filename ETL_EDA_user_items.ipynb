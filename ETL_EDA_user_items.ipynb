{
 "cells": [
  {
   "cell_type": "code",
   "execution_count": 13,
   "metadata": {},
   "outputs": [
    {
     "name": "stdout",
     "output_type": "stream",
     "text": [
      "             user_id  items_count           steam_id  \\\n",
      "0  76561197970982479          277  76561197970982479   \n",
      "1            js41637          888  76561198035864385   \n",
      "2          evcentric          137  76561198007712555   \n",
      "3         Riot-Punch          328  76561197963445855   \n",
      "4              doctr          541  76561198002099482   \n",
      "\n",
      "                                            user_url  \\\n",
      "0  http://steamcommunity.com/profiles/76561197970...   \n",
      "1               http://steamcommunity.com/id/js41637   \n",
      "2             http://steamcommunity.com/id/evcentric   \n",
      "3            http://steamcommunity.com/id/Riot-Punch   \n",
      "4                 http://steamcommunity.com/id/doctr   \n",
      "\n",
      "                                               items  \n",
      "0  [{'item_id': '10', 'item_name': 'Counter-Strik...  \n",
      "1  [{'item_id': '10', 'item_name': 'Counter-Strik...  \n",
      "2  [{'item_id': '1200', 'item_name': 'Red Orchest...  \n",
      "3  [{'item_id': '10', 'item_name': 'Counter-Strik...  \n",
      "4  [{'item_id': '300', 'item_name': 'Day of Defea...  \n"
     ]
    }
   ],
   "source": [
    "import pandas as pd\n",
    "import ast\n",
    "\n",
    "# Ruta al archivo que contiene el JSON\n",
    "ruta_archivo = '../PI_ML_OPS_data util/australian_users_items.json'\n",
    "\n",
    "lista_objetos_json = []\n",
    "\n",
    "with open(ruta_archivo, \"r\", encoding=\"utf-8\") as file:\n",
    "    for line in file:\n",
    "        lista_objetos_json.append(ast.literal_eval(line))\n",
    "\n",
    "\n",
    "# Convierte la lista de objetos a un DataFrame de Pandas para mejor lectura\n",
    "data = pd.DataFrame(lista_objetos_json)\n",
    "\n",
    "# Mostrar los primeros registros del DataFrame\n",
    "print(data.head())"
   ]
  },
  {
   "cell_type": "code",
   "execution_count": 2,
   "metadata": {},
   "outputs": [
    {
     "name": "stdout",
     "output_type": "stream",
     "text": [
      "             user_id  items_count           steam_id  \\\n",
      "0  76561197970982479          277  76561197970982479   \n",
      "1            js41637          888  76561198035864385   \n",
      "2          evcentric          137  76561198007712555   \n",
      "3         Riot-Punch          328  76561197963445855   \n",
      "4              doctr          541  76561198002099482   \n",
      "\n",
      "                                            user_url  \\\n",
      "0  http://steamcommunity.com/profiles/76561197970...   \n",
      "1               http://steamcommunity.com/id/js41637   \n",
      "2             http://steamcommunity.com/id/evcentric   \n",
      "3            http://steamcommunity.com/id/Riot-Punch   \n",
      "4                 http://steamcommunity.com/id/doctr   \n",
      "\n",
      "                                               items  \n",
      "0  [{'item_id': '10', 'item_name': 'Counter-Strik...  \n",
      "1  [{'item_id': '10', 'item_name': 'Counter-Strik...  \n",
      "2  [{'item_id': '1200', 'item_name': 'Red Orchest...  \n",
      "3  [{'item_id': '10', 'item_name': 'Counter-Strik...  \n",
      "4  [{'item_id': '300', 'item_name': 'Day of Defea...  \n"
     ]
    }
   ],
   "source": [
    "# Eliminar filas con valores NaN\n",
    "# Solo aquellas que tengan toda la fila vacía\n",
    "data_cleaned = data.dropna(how='all')\n",
    "\n",
    "# Mostrar los primeros registros para verificar la lectura\n",
    "print(data_cleaned.head())"
   ]
  },
  {
   "cell_type": "code",
   "execution_count": 3,
   "metadata": {},
   "outputs": [
    {
     "name": "stdout",
     "output_type": "stream",
     "text": [
      "user_id        0\n",
      "items_count    0\n",
      "steam_id       0\n",
      "user_url       0\n",
      "items          0\n",
      "dtype: int64\n"
     ]
    }
   ],
   "source": [
    "# Reviso cantidad de nulos iniciales\n",
    "print(data.isna().sum())"
   ]
  },
  {
   "cell_type": "code",
   "execution_count": 4,
   "metadata": {},
   "outputs": [
    {
     "name": "stdout",
     "output_type": "stream",
     "text": [
      "user_id        0\n",
      "items_count    0\n",
      "steam_id       0\n",
      "user_url       0\n",
      "items          0\n",
      "dtype: int64\n"
     ]
    }
   ],
   "source": [
    "# Reviso cantidad de nulos luego de dropna\n",
    "print(data_cleaned.isna().sum())"
   ]
  },
  {
   "cell_type": "code",
   "execution_count": 5,
   "metadata": {},
   "outputs": [
    {
     "name": "stdout",
     "output_type": "stream",
     "text": [
      "<class 'pandas.core.frame.DataFrame'>\n",
      "RangeIndex: 88310 entries, 0 to 88309\n",
      "Data columns (total 5 columns):\n",
      " #   Column       Non-Null Count  Dtype \n",
      "---  ------       --------------  ----- \n",
      " 0   user_id      88310 non-null  object\n",
      " 1   items_count  88310 non-null  int64 \n",
      " 2   steam_id     88310 non-null  object\n",
      " 3   user_url     88310 non-null  object\n",
      " 4   items        88310 non-null  object\n",
      "dtypes: int64(1), object(4)\n",
      "memory usage: 3.4+ MB\n"
     ]
    }
   ],
   "source": [
    "# Obtengo la composición actual del dataframe\n",
    "data_cleaned.info()"
   ]
  },
  {
   "cell_type": "code",
   "execution_count": 6,
   "metadata": {},
   "outputs": [
    {
     "data": {
      "text/html": [
       "<div>\n",
       "<style scoped>\n",
       "    .dataframe tbody tr th:only-of-type {\n",
       "        vertical-align: middle;\n",
       "    }\n",
       "\n",
       "    .dataframe tbody tr th {\n",
       "        vertical-align: top;\n",
       "    }\n",
       "\n",
       "    .dataframe thead th {\n",
       "        text-align: right;\n",
       "    }\n",
       "</style>\n",
       "<table border=\"1\" class=\"dataframe\">\n",
       "  <thead>\n",
       "    <tr style=\"text-align: right;\">\n",
       "      <th></th>\n",
       "      <th>user_id</th>\n",
       "      <th>items_count</th>\n",
       "      <th>steam_id</th>\n",
       "      <th>user_url</th>\n",
       "      <th>items</th>\n",
       "    </tr>\n",
       "  </thead>\n",
       "  <tbody>\n",
       "    <tr>\n",
       "      <th>0</th>\n",
       "      <td>76561197970982479</td>\n",
       "      <td>277</td>\n",
       "      <td>76561197970982479</td>\n",
       "      <td>http://steamcommunity.com/profiles/76561197970...</td>\n",
       "      <td>[{'item_id': '10', 'item_name': 'Counter-Strik...</td>\n",
       "    </tr>\n",
       "    <tr>\n",
       "      <th>1</th>\n",
       "      <td>js41637</td>\n",
       "      <td>888</td>\n",
       "      <td>76561198035864385</td>\n",
       "      <td>http://steamcommunity.com/id/js41637</td>\n",
       "      <td>[{'item_id': '10', 'item_name': 'Counter-Strik...</td>\n",
       "    </tr>\n",
       "    <tr>\n",
       "      <th>2</th>\n",
       "      <td>evcentric</td>\n",
       "      <td>137</td>\n",
       "      <td>76561198007712555</td>\n",
       "      <td>http://steamcommunity.com/id/evcentric</td>\n",
       "      <td>[{'item_id': '1200', 'item_name': 'Red Orchest...</td>\n",
       "    </tr>\n",
       "    <tr>\n",
       "      <th>3</th>\n",
       "      <td>Riot-Punch</td>\n",
       "      <td>328</td>\n",
       "      <td>76561197963445855</td>\n",
       "      <td>http://steamcommunity.com/id/Riot-Punch</td>\n",
       "      <td>[{'item_id': '10', 'item_name': 'Counter-Strik...</td>\n",
       "    </tr>\n",
       "    <tr>\n",
       "      <th>4</th>\n",
       "      <td>doctr</td>\n",
       "      <td>541</td>\n",
       "      <td>76561198002099482</td>\n",
       "      <td>http://steamcommunity.com/id/doctr</td>\n",
       "      <td>[{'item_id': '300', 'item_name': 'Day of Defea...</td>\n",
       "    </tr>\n",
       "    <tr>\n",
       "      <th>...</th>\n",
       "      <td>...</td>\n",
       "      <td>...</td>\n",
       "      <td>...</td>\n",
       "      <td>...</td>\n",
       "      <td>...</td>\n",
       "    </tr>\n",
       "    <tr>\n",
       "      <th>88305</th>\n",
       "      <td>76561198323066619</td>\n",
       "      <td>22</td>\n",
       "      <td>76561198323066619</td>\n",
       "      <td>http://steamcommunity.com/profiles/76561198323...</td>\n",
       "      <td>[{'item_id': '413850', 'item_name': 'CS:GO Pla...</td>\n",
       "    </tr>\n",
       "    <tr>\n",
       "      <th>88306</th>\n",
       "      <td>76561198326700687</td>\n",
       "      <td>177</td>\n",
       "      <td>76561198326700687</td>\n",
       "      <td>http://steamcommunity.com/profiles/76561198326...</td>\n",
       "      <td>[{'item_id': '11020', 'item_name': 'TrackMania...</td>\n",
       "    </tr>\n",
       "    <tr>\n",
       "      <th>88307</th>\n",
       "      <td>XxLaughingJackClown77xX</td>\n",
       "      <td>0</td>\n",
       "      <td>76561198328759259</td>\n",
       "      <td>http://steamcommunity.com/id/XxLaughingJackClo...</td>\n",
       "      <td>[]</td>\n",
       "    </tr>\n",
       "    <tr>\n",
       "      <th>88308</th>\n",
       "      <td>76561198329548331</td>\n",
       "      <td>7</td>\n",
       "      <td>76561198329548331</td>\n",
       "      <td>http://steamcommunity.com/profiles/76561198329...</td>\n",
       "      <td>[{'item_id': '304930', 'item_name': 'Unturned'...</td>\n",
       "    </tr>\n",
       "    <tr>\n",
       "      <th>88309</th>\n",
       "      <td>edward_tremethick</td>\n",
       "      <td>0</td>\n",
       "      <td>76561198331598578</td>\n",
       "      <td>http://steamcommunity.com/id/edward_tremethick</td>\n",
       "      <td>[]</td>\n",
       "    </tr>\n",
       "  </tbody>\n",
       "</table>\n",
       "<p>88310 rows × 5 columns</p>\n",
       "</div>"
      ],
      "text/plain": [
       "                       user_id  items_count           steam_id  \\\n",
       "0            76561197970982479          277  76561197970982479   \n",
       "1                      js41637          888  76561198035864385   \n",
       "2                    evcentric          137  76561198007712555   \n",
       "3                   Riot-Punch          328  76561197963445855   \n",
       "4                        doctr          541  76561198002099482   \n",
       "...                        ...          ...                ...   \n",
       "88305        76561198323066619           22  76561198323066619   \n",
       "88306        76561198326700687          177  76561198326700687   \n",
       "88307  XxLaughingJackClown77xX            0  76561198328759259   \n",
       "88308        76561198329548331            7  76561198329548331   \n",
       "88309        edward_tremethick            0  76561198331598578   \n",
       "\n",
       "                                                user_url  \\\n",
       "0      http://steamcommunity.com/profiles/76561197970...   \n",
       "1                   http://steamcommunity.com/id/js41637   \n",
       "2                 http://steamcommunity.com/id/evcentric   \n",
       "3                http://steamcommunity.com/id/Riot-Punch   \n",
       "4                     http://steamcommunity.com/id/doctr   \n",
       "...                                                  ...   \n",
       "88305  http://steamcommunity.com/profiles/76561198323...   \n",
       "88306  http://steamcommunity.com/profiles/76561198326...   \n",
       "88307  http://steamcommunity.com/id/XxLaughingJackClo...   \n",
       "88308  http://steamcommunity.com/profiles/76561198329...   \n",
       "88309     http://steamcommunity.com/id/edward_tremethick   \n",
       "\n",
       "                                                   items  \n",
       "0      [{'item_id': '10', 'item_name': 'Counter-Strik...  \n",
       "1      [{'item_id': '10', 'item_name': 'Counter-Strik...  \n",
       "2      [{'item_id': '1200', 'item_name': 'Red Orchest...  \n",
       "3      [{'item_id': '10', 'item_name': 'Counter-Strik...  \n",
       "4      [{'item_id': '300', 'item_name': 'Day of Defea...  \n",
       "...                                                  ...  \n",
       "88305  [{'item_id': '413850', 'item_name': 'CS:GO Pla...  \n",
       "88306  [{'item_id': '11020', 'item_name': 'TrackMania...  \n",
       "88307                                                 []  \n",
       "88308  [{'item_id': '304930', 'item_name': 'Unturned'...  \n",
       "88309                                                 []  \n",
       "\n",
       "[88310 rows x 5 columns]"
      ]
     },
     "execution_count": 6,
     "metadata": {},
     "output_type": "execute_result"
    }
   ],
   "source": [
    "data_cleaned"
   ]
  },
  {
   "cell_type": "code",
   "execution_count": 7,
   "metadata": {},
   "outputs": [],
   "source": [
    "# Borrar la columnas que no usaré\n",
    "data_cleaned.drop('items_count', axis=1, inplace=True)\n",
    "data_cleaned.drop('steam_id', axis=1, inplace=True)\n",
    "data_cleaned.drop('user_url', axis=1, inplace=True)"
   ]
  },
  {
   "cell_type": "code",
   "execution_count": 10,
   "metadata": {},
   "outputs": [
    {
     "ename": "KeyError",
     "evalue": "'items'",
     "output_type": "error",
     "traceback": [
      "\u001b[1;31m---------------------------------------------------------------------------\u001b[0m",
      "\u001b[1;31mKeyError\u001b[0m                                  Traceback (most recent call last)",
      "File \u001b[1;32mc:\\Users\\leabr\\AppData\\Local\\Programs\\Python\\Python311\\Lib\\site-packages\\pandas\\core\\indexes\\base.py:3791\u001b[0m, in \u001b[0;36mIndex.get_loc\u001b[1;34m(self, key)\u001b[0m\n\u001b[0;32m   3790\u001b[0m \u001b[39mtry\u001b[39;00m:\n\u001b[1;32m-> 3791\u001b[0m     \u001b[39mreturn\u001b[39;00m \u001b[39mself\u001b[39;49m\u001b[39m.\u001b[39;49m_engine\u001b[39m.\u001b[39;49mget_loc(casted_key)\n\u001b[0;32m   3792\u001b[0m \u001b[39mexcept\u001b[39;00m \u001b[39mKeyError\u001b[39;00m \u001b[39mas\u001b[39;00m err:\n",
      "File \u001b[1;32mindex.pyx:152\u001b[0m, in \u001b[0;36mpandas._libs.index.IndexEngine.get_loc\u001b[1;34m()\u001b[0m\n",
      "File \u001b[1;32mindex.pyx:181\u001b[0m, in \u001b[0;36mpandas._libs.index.IndexEngine.get_loc\u001b[1;34m()\u001b[0m\n",
      "File \u001b[1;32mpandas\\_libs\\hashtable_class_helper.pxi:7080\u001b[0m, in \u001b[0;36mpandas._libs.hashtable.PyObjectHashTable.get_item\u001b[1;34m()\u001b[0m\n",
      "File \u001b[1;32mpandas\\_libs\\hashtable_class_helper.pxi:7088\u001b[0m, in \u001b[0;36mpandas._libs.hashtable.PyObjectHashTable.get_item\u001b[1;34m()\u001b[0m\n",
      "\u001b[1;31mKeyError\u001b[0m: 'items'",
      "\nThe above exception was the direct cause of the following exception:\n",
      "\u001b[1;31mKeyError\u001b[0m                                  Traceback (most recent call last)",
      "\u001b[1;32mg:\\Mi unidad\\Henry\\PT06\\PI_ML_OPS_LB\\ETL_user_items.ipynb Cell 8\u001b[0m line \u001b[0;36m2\n\u001b[0;32m     <a href='vscode-notebook-cell:/g%3A/Mi%20unidad/Henry/PT06/PI_ML_OPS_LB/ETL_user_items.ipynb#X14sZmlsZQ%3D%3D?line=23'>24</a>\u001b[0m     \u001b[39mreturn\u001b[39;00m cleaned_items\n\u001b[0;32m     <a href='vscode-notebook-cell:/g%3A/Mi%20unidad/Henry/PT06/PI_ML_OPS_LB/ETL_user_items.ipynb#X14sZmlsZQ%3D%3D?line=27'>28</a>\u001b[0m \u001b[39m# Aplica la función a cada fila y crea una nueva columna 'items_cleaned'\u001b[39;00m\n\u001b[1;32m---> <a href='vscode-notebook-cell:/g%3A/Mi%20unidad/Henry/PT06/PI_ML_OPS_LB/ETL_user_items.ipynb#X14sZmlsZQ%3D%3D?line=28'>29</a>\u001b[0m data_cleaned[\u001b[39m'\u001b[39m\u001b[39mitems_cleaned\u001b[39m\u001b[39m'\u001b[39m] \u001b[39m=\u001b[39m data_cleaned\u001b[39m.\u001b[39;49mapply(remove_keys, axis\u001b[39m=\u001b[39;49m\u001b[39m1\u001b[39;49m)\n\u001b[0;32m     <a href='vscode-notebook-cell:/g%3A/Mi%20unidad/Henry/PT06/PI_ML_OPS_LB/ETL_user_items.ipynb#X14sZmlsZQ%3D%3D?line=30'>31</a>\u001b[0m \u001b[39m# Elimina la columna original 'items'\u001b[39;00m\n\u001b[0;32m     <a href='vscode-notebook-cell:/g%3A/Mi%20unidad/Henry/PT06/PI_ML_OPS_LB/ETL_user_items.ipynb#X14sZmlsZQ%3D%3D?line=31'>32</a>\u001b[0m data_cleaned \u001b[39m=\u001b[39m data_cleaned\u001b[39m.\u001b[39mdrop(\u001b[39m'\u001b[39m\u001b[39mitems\u001b[39m\u001b[39m'\u001b[39m, axis\u001b[39m=\u001b[39m\u001b[39m1\u001b[39m)\n",
      "File \u001b[1;32mc:\\Users\\leabr\\AppData\\Local\\Programs\\Python\\Python311\\Lib\\site-packages\\pandas\\core\\frame.py:10034\u001b[0m, in \u001b[0;36mDataFrame.apply\u001b[1;34m(self, func, axis, raw, result_type, args, by_row, **kwargs)\u001b[0m\n\u001b[0;32m  10022\u001b[0m \u001b[39mfrom\u001b[39;00m \u001b[39mpandas\u001b[39;00m\u001b[39m.\u001b[39;00m\u001b[39mcore\u001b[39;00m\u001b[39m.\u001b[39;00m\u001b[39mapply\u001b[39;00m \u001b[39mimport\u001b[39;00m frame_apply\n\u001b[0;32m  10024\u001b[0m op \u001b[39m=\u001b[39m frame_apply(\n\u001b[0;32m  10025\u001b[0m     \u001b[39mself\u001b[39m,\n\u001b[0;32m  10026\u001b[0m     func\u001b[39m=\u001b[39mfunc,\n\u001b[1;32m   (...)\u001b[0m\n\u001b[0;32m  10032\u001b[0m     kwargs\u001b[39m=\u001b[39mkwargs,\n\u001b[0;32m  10033\u001b[0m )\n\u001b[1;32m> 10034\u001b[0m \u001b[39mreturn\u001b[39;00m op\u001b[39m.\u001b[39;49mapply()\u001b[39m.\u001b[39m__finalize__(\u001b[39mself\u001b[39m, method\u001b[39m=\u001b[39m\u001b[39m\"\u001b[39m\u001b[39mapply\u001b[39m\u001b[39m\"\u001b[39m)\n",
      "File \u001b[1;32mc:\\Users\\leabr\\AppData\\Local\\Programs\\Python\\Python311\\Lib\\site-packages\\pandas\\core\\apply.py:837\u001b[0m, in \u001b[0;36mFrameApply.apply\u001b[1;34m(self)\u001b[0m\n\u001b[0;32m    834\u001b[0m \u001b[39melif\u001b[39;00m \u001b[39mself\u001b[39m\u001b[39m.\u001b[39mraw:\n\u001b[0;32m    835\u001b[0m     \u001b[39mreturn\u001b[39;00m \u001b[39mself\u001b[39m\u001b[39m.\u001b[39mapply_raw()\n\u001b[1;32m--> 837\u001b[0m \u001b[39mreturn\u001b[39;00m \u001b[39mself\u001b[39;49m\u001b[39m.\u001b[39;49mapply_standard()\n",
      "File \u001b[1;32mc:\\Users\\leabr\\AppData\\Local\\Programs\\Python\\Python311\\Lib\\site-packages\\pandas\\core\\apply.py:965\u001b[0m, in \u001b[0;36mFrameApply.apply_standard\u001b[1;34m(self)\u001b[0m\n\u001b[0;32m    964\u001b[0m \u001b[39mdef\u001b[39;00m \u001b[39mapply_standard\u001b[39m(\u001b[39mself\u001b[39m):\n\u001b[1;32m--> 965\u001b[0m     results, res_index \u001b[39m=\u001b[39m \u001b[39mself\u001b[39;49m\u001b[39m.\u001b[39;49mapply_series_generator()\n\u001b[0;32m    967\u001b[0m     \u001b[39m# wrap results\u001b[39;00m\n\u001b[0;32m    968\u001b[0m     \u001b[39mreturn\u001b[39;00m \u001b[39mself\u001b[39m\u001b[39m.\u001b[39mwrap_results(results, res_index)\n",
      "File \u001b[1;32mc:\\Users\\leabr\\AppData\\Local\\Programs\\Python\\Python311\\Lib\\site-packages\\pandas\\core\\apply.py:981\u001b[0m, in \u001b[0;36mFrameApply.apply_series_generator\u001b[1;34m(self)\u001b[0m\n\u001b[0;32m    978\u001b[0m \u001b[39mwith\u001b[39;00m option_context(\u001b[39m\"\u001b[39m\u001b[39mmode.chained_assignment\u001b[39m\u001b[39m\"\u001b[39m, \u001b[39mNone\u001b[39;00m):\n\u001b[0;32m    979\u001b[0m     \u001b[39mfor\u001b[39;00m i, v \u001b[39min\u001b[39;00m \u001b[39menumerate\u001b[39m(series_gen):\n\u001b[0;32m    980\u001b[0m         \u001b[39m# ignore SettingWithCopy here in case the user mutates\u001b[39;00m\n\u001b[1;32m--> 981\u001b[0m         results[i] \u001b[39m=\u001b[39m \u001b[39mself\u001b[39;49m\u001b[39m.\u001b[39;49mfunc(v, \u001b[39m*\u001b[39;49m\u001b[39mself\u001b[39;49m\u001b[39m.\u001b[39;49margs, \u001b[39m*\u001b[39;49m\u001b[39m*\u001b[39;49m\u001b[39mself\u001b[39;49m\u001b[39m.\u001b[39;49mkwargs)\n\u001b[0;32m    982\u001b[0m         \u001b[39mif\u001b[39;00m \u001b[39misinstance\u001b[39m(results[i], ABCSeries):\n\u001b[0;32m    983\u001b[0m             \u001b[39m# If we have a view on v, we need to make a copy because\u001b[39;00m\n\u001b[0;32m    984\u001b[0m             \u001b[39m#  series_generator will swap out the underlying data\u001b[39;00m\n\u001b[0;32m    985\u001b[0m             results[i] \u001b[39m=\u001b[39m results[i]\u001b[39m.\u001b[39mcopy(deep\u001b[39m=\u001b[39m\u001b[39mFalse\u001b[39;00m)\n",
      "\u001b[1;32mg:\\Mi unidad\\Henry\\PT06\\PI_ML_OPS_LB\\ETL_user_items.ipynb Cell 8\u001b[0m line \u001b[0;36m5\n\u001b[0;32m      <a href='vscode-notebook-cell:/g%3A/Mi%20unidad/Henry/PT06/PI_ML_OPS_LB/ETL_user_items.ipynb#X14sZmlsZQ%3D%3D?line=2'>3</a>\u001b[0m \u001b[39mdef\u001b[39;00m \u001b[39mremove_keys\u001b[39m(row):\n\u001b[0;32m      <a href='vscode-notebook-cell:/g%3A/Mi%20unidad/Henry/PT06/PI_ML_OPS_LB/ETL_user_items.ipynb#X14sZmlsZQ%3D%3D?line=3'>4</a>\u001b[0m     \u001b[39m# Si la columna 'items' ya contiene diccionarios, simplemente elimina las claves correspondientes\u001b[39;00m\n\u001b[1;32m----> <a href='vscode-notebook-cell:/g%3A/Mi%20unidad/Henry/PT06/PI_ML_OPS_LB/ETL_user_items.ipynb#X14sZmlsZQ%3D%3D?line=4'>5</a>\u001b[0m     \u001b[39mif\u001b[39;00m \u001b[39misinstance\u001b[39m(row[\u001b[39m'\u001b[39;49m\u001b[39mitems\u001b[39;49m\u001b[39m'\u001b[39;49m], \u001b[39mlist\u001b[39m) \u001b[39mand\u001b[39;00m \u001b[39mall\u001b[39m(\u001b[39misinstance\u001b[39m(item, \u001b[39mdict\u001b[39m) \u001b[39mfor\u001b[39;00m item \u001b[39min\u001b[39;00m row[\u001b[39m'\u001b[39m\u001b[39mitems\u001b[39m\u001b[39m'\u001b[39m]):\n\u001b[0;32m      <a href='vscode-notebook-cell:/g%3A/Mi%20unidad/Henry/PT06/PI_ML_OPS_LB/ETL_user_items.ipynb#X14sZmlsZQ%3D%3D?line=5'>6</a>\u001b[0m         cleaned_items \u001b[39m=\u001b[39m []\n\u001b[0;32m      <a href='vscode-notebook-cell:/g%3A/Mi%20unidad/Henry/PT06/PI_ML_OPS_LB/ETL_user_items.ipynb#X14sZmlsZQ%3D%3D?line=6'>7</a>\u001b[0m         \u001b[39mfor\u001b[39;00m item \u001b[39min\u001b[39;00m row[\u001b[39m'\u001b[39m\u001b[39mitems\u001b[39m\u001b[39m'\u001b[39m]:\n",
      "File \u001b[1;32mc:\\Users\\leabr\\AppData\\Local\\Programs\\Python\\Python311\\Lib\\site-packages\\pandas\\core\\series.py:1040\u001b[0m, in \u001b[0;36mSeries.__getitem__\u001b[1;34m(self, key)\u001b[0m\n\u001b[0;32m   1037\u001b[0m     \u001b[39mreturn\u001b[39;00m \u001b[39mself\u001b[39m\u001b[39m.\u001b[39m_values[key]\n\u001b[0;32m   1039\u001b[0m \u001b[39melif\u001b[39;00m key_is_scalar:\n\u001b[1;32m-> 1040\u001b[0m     \u001b[39mreturn\u001b[39;00m \u001b[39mself\u001b[39;49m\u001b[39m.\u001b[39;49m_get_value(key)\n\u001b[0;32m   1042\u001b[0m \u001b[39m# Convert generator to list before going through hashable part\u001b[39;00m\n\u001b[0;32m   1043\u001b[0m \u001b[39m# (We will iterate through the generator there to check for slices)\u001b[39;00m\n\u001b[0;32m   1044\u001b[0m \u001b[39mif\u001b[39;00m is_iterator(key):\n",
      "File \u001b[1;32mc:\\Users\\leabr\\AppData\\Local\\Programs\\Python\\Python311\\Lib\\site-packages\\pandas\\core\\series.py:1156\u001b[0m, in \u001b[0;36mSeries._get_value\u001b[1;34m(self, label, takeable)\u001b[0m\n\u001b[0;32m   1153\u001b[0m     \u001b[39mreturn\u001b[39;00m \u001b[39mself\u001b[39m\u001b[39m.\u001b[39m_values[label]\n\u001b[0;32m   1155\u001b[0m \u001b[39m# Similar to Index.get_value, but we do not fall back to positional\u001b[39;00m\n\u001b[1;32m-> 1156\u001b[0m loc \u001b[39m=\u001b[39m \u001b[39mself\u001b[39;49m\u001b[39m.\u001b[39;49mindex\u001b[39m.\u001b[39;49mget_loc(label)\n\u001b[0;32m   1158\u001b[0m \u001b[39mif\u001b[39;00m is_integer(loc):\n\u001b[0;32m   1159\u001b[0m     \u001b[39mreturn\u001b[39;00m \u001b[39mself\u001b[39m\u001b[39m.\u001b[39m_values[loc]\n",
      "File \u001b[1;32mc:\\Users\\leabr\\AppData\\Local\\Programs\\Python\\Python311\\Lib\\site-packages\\pandas\\core\\indexes\\base.py:3798\u001b[0m, in \u001b[0;36mIndex.get_loc\u001b[1;34m(self, key)\u001b[0m\n\u001b[0;32m   3793\u001b[0m     \u001b[39mif\u001b[39;00m \u001b[39misinstance\u001b[39m(casted_key, \u001b[39mslice\u001b[39m) \u001b[39mor\u001b[39;00m (\n\u001b[0;32m   3794\u001b[0m         \u001b[39misinstance\u001b[39m(casted_key, abc\u001b[39m.\u001b[39mIterable)\n\u001b[0;32m   3795\u001b[0m         \u001b[39mand\u001b[39;00m \u001b[39many\u001b[39m(\u001b[39misinstance\u001b[39m(x, \u001b[39mslice\u001b[39m) \u001b[39mfor\u001b[39;00m x \u001b[39min\u001b[39;00m casted_key)\n\u001b[0;32m   3796\u001b[0m     ):\n\u001b[0;32m   3797\u001b[0m         \u001b[39mraise\u001b[39;00m InvalidIndexError(key)\n\u001b[1;32m-> 3798\u001b[0m     \u001b[39mraise\u001b[39;00m \u001b[39mKeyError\u001b[39;00m(key) \u001b[39mfrom\u001b[39;00m \u001b[39merr\u001b[39;00m\n\u001b[0;32m   3799\u001b[0m \u001b[39mexcept\u001b[39;00m \u001b[39mTypeError\u001b[39;00m:\n\u001b[0;32m   3800\u001b[0m     \u001b[39m# If we have a listlike key, _check_indexing_error will raise\u001b[39;00m\n\u001b[0;32m   3801\u001b[0m     \u001b[39m#  InvalidIndexError. Otherwise we fall through and re-raise\u001b[39;00m\n\u001b[0;32m   3802\u001b[0m     \u001b[39m#  the TypeError.\u001b[39;00m\n\u001b[0;32m   3803\u001b[0m     \u001b[39mself\u001b[39m\u001b[39m.\u001b[39m_check_indexing_error(key)\n",
      "\u001b[1;31mKeyError\u001b[0m: 'items'"
     ]
    }
   ],
   "source": [
    "# Elimino las key dentro de los JSON que no voy a necesitar \n",
    "\n",
    "def remove_keys(row):\n",
    "    # Si la columna 'items' ya contiene diccionarios, simplemente elimina las claves correspondientes\n",
    "    if isinstance(row['items'], list) and all(isinstance(item, dict) for item in row['items']):\n",
    "        cleaned_items = []\n",
    "        for item in row['items']:\n",
    "            cleaned_item = {}\n",
    "            for k, v in item.items():\n",
    "                if k not in ['item_name', 'playtime_2weeks']:\n",
    "                    cleaned_item[k] = v\n",
    "            cleaned_items.append(cleaned_item)\n",
    "        return cleaned_items\n",
    "    \n",
    "    # De lo contrario, convierte la cadena en un diccionario y realiza la eliminación\n",
    "    items_dict = ast.literal_eval(row['items'])\n",
    "    cleaned_items = []\n",
    "    for item in items_dict:\n",
    "        cleaned_item = {}\n",
    "        for k, v in item.items():\n",
    "            if k not in ['item_name', 'playtime_2weeks']:\n",
    "                cleaned_item[k] = v\n",
    "        cleaned_items.append(cleaned_item)\n",
    "    return cleaned_items\n",
    "\n",
    "    \n",
    "\n",
    "# Aplica la función a cada fila y crea una nueva columna 'items_cleaned'\n",
    "data_cleaned['items_cleaned'] = data_cleaned.apply(remove_keys, axis=1)\n",
    "\n",
    "# Elimina la columna original 'items'\n",
    "data_cleaned = data_cleaned.drop('items', axis=1)\n",
    "\n",
    "# Imprime el DataFrame resultante\n",
    "print(data_cleaned)"
   ]
  },
  {
   "cell_type": "code",
   "execution_count": 1,
   "metadata": {},
   "outputs": [
    {
     "ename": "NameError",
     "evalue": "name 'data_cleaned' is not defined",
     "output_type": "error",
     "traceback": [
      "\u001b[1;31m---------------------------------------------------------------------------\u001b[0m",
      "\u001b[1;31mNameError\u001b[0m                                 Traceback (most recent call last)",
      "\u001b[1;32mg:\\Mi unidad\\Henry\\PT06\\PI_ML_OPS_LB\\ETL_user_items.ipynb Cell 9\u001b[0m line \u001b[0;36m1\n\u001b[1;32m----> <a href='vscode-notebook-cell:/g%3A/Mi%20unidad/Henry/PT06/PI_ML_OPS_LB/ETL_user_items.ipynb#X11sZmlsZQ%3D%3D?line=0'>1</a>\u001b[0m data_cleaned\u001b[39m.\u001b[39minfo()\n",
      "\u001b[1;31mNameError\u001b[0m: name 'data_cleaned' is not defined"
     ]
    }
   ],
   "source": [
    "data_cleaned.info()"
   ]
  },
  {
   "cell_type": "code",
   "execution_count": 12,
   "metadata": {},
   "outputs": [],
   "source": [
    "# Guardar el DataFrame modificado en un archivo CSV\n",
    "data_cleaned.to_csv('user_items.csv', index=False)"
   ]
  }
 ],
 "metadata": {
  "kernelspec": {
   "display_name": "Python 3",
   "language": "python",
   "name": "python3"
  },
  "language_info": {
   "codemirror_mode": {
    "name": "ipython",
    "version": 3
   },
   "file_extension": ".py",
   "mimetype": "text/x-python",
   "name": "python",
   "nbconvert_exporter": "python",
   "pygments_lexer": "ipython3",
   "version": "3.11.4"
  }
 },
 "nbformat": 4,
 "nbformat_minor": 2
}
