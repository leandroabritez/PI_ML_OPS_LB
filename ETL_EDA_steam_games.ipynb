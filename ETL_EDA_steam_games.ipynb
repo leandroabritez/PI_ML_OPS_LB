{
 "cells": [
  {
   "cell_type": "code",
   "execution_count": 74,
   "metadata": {},
   "outputs": [],
   "source": [
    "import json\n",
    "import pandas as pd\n",
    "\n",
    "# Ruta al archivo que contiene el JSON\n",
    "ruta_archivo = '../PI_ML_OPS_data util/output_steam_games.json'\n",
    "\n",
    "# Lista para almacenar los objetos JSON\n",
    "lista_objetos_json = []\n",
    "\n",
    "# Leer el contenido del archivo línea por línea\n",
    "with open(ruta_archivo, 'r',encoding=\"utf-8\") as f:\n",
    "    for linea in f:\n",
    "        try:\n",
    "            # Utilizar json.loads para cargar cada línea como un objeto JSON\n",
    "            objeto_json = json.loads(linea)\n",
    "            lista_objetos_json.append(objeto_json)\n",
    "        except json.JSONDecodeError as e:\n",
    "            print(f\"Error al decodificar el JSON en la línea: {linea.strip()}. {e}\")\n",
    "\n",
    "# Convierte la lista de objetos a un DataFrame de Pandas para mejor lectura\n",
    "data = pd.DataFrame(lista_objetos_json)\n",
    "\n",
    "\n"
   ]
  },
  {
   "cell_type": "code",
   "execution_count": 75,
   "metadata": {},
   "outputs": [
    {
     "name": "stdout",
     "output_type": "stream",
     "text": [
      "              publisher                                             genres  \\\n",
      "88310         Kotoshiro      [Action, Casual, Indie, Simulation, Strategy]   \n",
      "88311  Making Fun, Inc.               [Free to Play, Indie, RPG, Strategy]   \n",
      "88312      Poolians.com  [Casual, Free to Play, Indie, Simulation, Sports]   \n",
      "88313              彼岸领域                        [Action, Adventure, Casual]   \n",
      "88314               NaN                                                NaN   \n",
      "\n",
      "                      app_name                    title  \\\n",
      "88310      Lost Summoner Kitty      Lost Summoner Kitty   \n",
      "88311                Ironbound                Ironbound   \n",
      "88312  Real Pool 3D - Poolians  Real Pool 3D - Poolians   \n",
      "88313                  弹炸人2222                  弹炸人2222   \n",
      "88314            Log Challenge                      NaN   \n",
      "\n",
      "                                                     url release_date  \\\n",
      "88310  http://store.steampowered.com/app/761140/Lost_...   2018-01-04   \n",
      "88311  http://store.steampowered.com/app/643980/Ironb...   2018-01-04   \n",
      "88312  http://store.steampowered.com/app/670290/Real_...   2017-07-24   \n",
      "88313     http://store.steampowered.com/app/767400/2222/   2017-12-07   \n",
      "88314  http://store.steampowered.com/app/773570/Log_C...          NaN   \n",
      "\n",
      "                                                    tags  \\\n",
      "88310      [Strategy, Action, Indie, Casual, Simulation]   \n",
      "88311  [Free to Play, Strategy, Indie, RPG, Card Game...   \n",
      "88312  [Free to Play, Simulation, Sports, Casual, Ind...   \n",
      "88313                        [Action, Adventure, Casual]   \n",
      "88314                    [Action, Indie, Casual, Sports]   \n",
      "\n",
      "                                             reviews_url  \\\n",
      "88310  http://steamcommunity.com/app/761140/reviews/?...   \n",
      "88311  http://steamcommunity.com/app/643980/reviews/?...   \n",
      "88312  http://steamcommunity.com/app/670290/reviews/?...   \n",
      "88313  http://steamcommunity.com/app/767400/reviews/?...   \n",
      "88314  http://steamcommunity.com/app/773570/reviews/?...   \n",
      "\n",
      "                                                   specs         price  \\\n",
      "88310                                    [Single-player]          4.99   \n",
      "88311  [Single-player, Multi-player, Online Multi-Pla...  Free To Play   \n",
      "88312  [Single-player, Multi-player, Online Multi-Pla...  Free to Play   \n",
      "88313                                    [Single-player]          0.99   \n",
      "88314  [Single-player, Full controller support, HTC V...          2.99   \n",
      "\n",
      "      early_access      id         developer  \n",
      "88310        False  761140         Kotoshiro  \n",
      "88311        False  643980  Secret Level SRL  \n",
      "88312        False  670290      Poolians.com  \n",
      "88313        False  767400              彼岸领域  \n",
      "88314        False  773570               NaN  \n"
     ]
    }
   ],
   "source": [
    "# Eliminar filas con valores NaN\n",
    "# Solo aquellas que tengan toda la fila vacía\n",
    "data_cleaned = data.dropna(how='all')\n",
    "\n",
    "# Mostrar los primeros registros para verificar la lectura\n",
    "print(data_cleaned.head())"
   ]
  },
  {
   "cell_type": "code",
   "execution_count": 76,
   "metadata": {},
   "outputs": [
    {
     "name": "stdout",
     "output_type": "stream",
     "text": [
      "publisher       96362\n",
      "genres          91593\n",
      "app_name        88312\n",
      "title           90360\n",
      "url             88310\n",
      "release_date    90377\n",
      "tags            88473\n",
      "reviews_url     88312\n",
      "specs           88980\n",
      "price           89687\n",
      "early_access    88310\n",
      "id              88312\n",
      "developer       91609\n",
      "dtype: int64\n"
     ]
    }
   ],
   "source": [
    "# Reviso cantidad de nulos iniciales\n",
    "print(data.isna().sum())"
   ]
  },
  {
   "cell_type": "code",
   "execution_count": 77,
   "metadata": {},
   "outputs": [
    {
     "name": "stdout",
     "output_type": "stream",
     "text": [
      "publisher       8052\n",
      "genres          3283\n",
      "app_name           2\n",
      "title           2050\n",
      "url                0\n",
      "release_date    2067\n",
      "tags             163\n",
      "reviews_url        2\n",
      "specs            670\n",
      "price           1377\n",
      "early_access       0\n",
      "id                 2\n",
      "developer       3299\n",
      "dtype: int64\n"
     ]
    }
   ],
   "source": [
    "# Reviso cantidad de nulos luego de dropna\n",
    "print(data_cleaned.isna().sum())"
   ]
  },
  {
   "cell_type": "code",
   "execution_count": 78,
   "metadata": {},
   "outputs": [],
   "source": [
    "# Elimino columnas que según análisis de diccionario no serán necesarias para los futuros endpoints\n",
    "columns_to_drop = ['publisher', 'url', 'reviews_url', 'early_access']\n",
    "\n",
    "data_cleaned = data_cleaned.drop(columns=columns_to_drop)\n"
   ]
  },
  {
   "cell_type": "code",
   "execution_count": 79,
   "metadata": {},
   "outputs": [
    {
     "name": "stdout",
     "output_type": "stream",
     "text": [
      "<class 'pandas.core.frame.DataFrame'>\n",
      "Index: 32135 entries, 88310 to 120444\n",
      "Data columns (total 9 columns):\n",
      " #   Column        Non-Null Count  Dtype \n",
      "---  ------        --------------  ----- \n",
      " 0   genres        28852 non-null  object\n",
      " 1   app_name      32133 non-null  object\n",
      " 2   title         30085 non-null  object\n",
      " 3   release_date  30068 non-null  object\n",
      " 4   tags          31972 non-null  object\n",
      " 5   specs         31465 non-null  object\n",
      " 6   price         30758 non-null  object\n",
      " 7   id            32133 non-null  object\n",
      " 8   developer     28836 non-null  object\n",
      "dtypes: object(9)\n",
      "memory usage: 2.5+ MB\n"
     ]
    }
   ],
   "source": [
    "# Obtengo la composición actual del dataframe\n",
    "data_cleaned.info()"
   ]
  },
  {
   "cell_type": "code",
   "execution_count": 80,
   "metadata": {},
   "outputs": [
    {
     "name": "stdout",
     "output_type": "stream",
     "text": [
      "<class 'pandas.core.frame.DataFrame'>\n",
      "Index: 30067 entries, 88310 to 120443\n",
      "Data columns (total 9 columns):\n",
      " #   Column        Non-Null Count  Dtype \n",
      "---  ------        --------------  ----- \n",
      " 0   genres        28833 non-null  object\n",
      " 1   app_name      30067 non-null  object\n",
      " 2   title         30067 non-null  object\n",
      " 3   release_date  30067 non-null  object\n",
      " 4   tags          29906 non-null  object\n",
      " 5   specs         29398 non-null  object\n",
      " 6   price         28821 non-null  object\n",
      " 7   id            30066 non-null  object\n",
      " 8   developer     28818 non-null  object\n",
      "dtypes: object(9)\n",
      "memory usage: 2.3+ MB\n",
      "None\n"
     ]
    }
   ],
   "source": [
    "# Eliminar filas con nulos en 'app_name' y 'release_date'\n",
    "data_cleaned = data_cleaned.dropna(subset=['app_name', 'release_date'])\n",
    "\n",
    "# Verificar el resultado\n",
    "print(data_cleaned.info())"
   ]
  },
  {
   "cell_type": "code",
   "execution_count": 81,
   "metadata": {},
   "outputs": [
    {
     "name": "stdout",
     "output_type": "stream",
     "text": [
      "object\n"
     ]
    }
   ],
   "source": [
    "# Imprimir el tipo de dato de la columna 'price'\n",
    "print(data_cleaned['price'].dtype)"
   ]
  },
  {
   "cell_type": "code",
   "execution_count": 82,
   "metadata": {},
   "outputs": [
    {
     "name": "stdout",
     "output_type": "stream",
     "text": [
      "Número de filas con 'price' igual a 0: 0\n"
     ]
    }
   ],
   "source": [
    "# Contar el número de filas donde la columna 'price' es igual a 0\n",
    "count_zeros = (data_cleaned['price'] == 0).sum()\n",
    "\n",
    "# Imprimir el resultado\n",
    "print(f\"Número de filas con 'price' igual a 0: {count_zeros}\")"
   ]
  },
  {
   "cell_type": "code",
   "execution_count": 83,
   "metadata": {},
   "outputs": [
    {
     "name": "stdout",
     "output_type": "stream",
     "text": [
      "genres          object\n",
      "app_name        object\n",
      "title           object\n",
      "release_date    object\n",
      "tags            object\n",
      "specs           object\n",
      "price           object\n",
      "id              object\n",
      "developer       object\n",
      "dtype: object\n"
     ]
    }
   ],
   "source": [
    "# Reemplazar valores específicos en la columna 'price'\n",
    "data_cleaned.loc[data_cleaned['price'].isin(['Free to play', 'Free to use']), 'price'] = 0\n",
    "\n",
    "# Convertir la columna 'price' a tipo numérico\n",
    "data_cleaned.loc[:, 'price'] = pd.to_numeric(data_cleaned['price'], errors='coerce')\n",
    "\n",
    "# Imprimir información sobre los tipos de datos después de la conversión\n",
    "print(data_cleaned.dtypes)\n"
   ]
  },
  {
   "cell_type": "code",
   "execution_count": 84,
   "metadata": {},
   "outputs": [
    {
     "data": {
      "text/plain": [
       "88310     4.99\n",
       "88311     0.00\n",
       "88312     0.00\n",
       "88313     0.99\n",
       "88315     3.99\n",
       "          ... \n",
       "120439    1.99\n",
       "120440    1.99\n",
       "120441    4.99\n",
       "120442    1.99\n",
       "120443    4.99\n",
       "Name: price, Length: 30067, dtype: float64"
      ]
     },
     "execution_count": 84,
     "metadata": {},
     "output_type": "execute_result"
    }
   ],
   "source": [
    "# Reemplazar NaN por 0 solo en la columna 'price'\n",
    "data_cleaned.loc[:,'price'].fillna(0)"
   ]
  },
  {
   "cell_type": "code",
   "execution_count": 85,
   "metadata": {},
   "outputs": [
    {
     "name": "stdout",
     "output_type": "stream",
     "text": [
      "Series([], Name: developer, dtype: object)\n"
     ]
    }
   ],
   "source": [
    "filtered_data = data_cleaned[data_cleaned['price'] == 0]\n",
    "print(filtered_data['developer'])"
   ]
  },
  {
   "cell_type": "code",
   "execution_count": 86,
   "metadata": {},
   "outputs": [
    {
     "name": "stdout",
     "output_type": "stream",
     "text": [
      "                                          genres  \\\n",
      "89819                 [Adventure, Casual, Indie]   \n",
      "100232  [Indie, Massively Multiplayer, Strategy]   \n",
      "101963                [Action, Adventure, Indie]   \n",
      "102883                                  [Action]   \n",
      "105108                     [Adventure, Strategy]   \n",
      "106374   [Action, Adventure, Casual, Indie, RPG]   \n",
      "107374                                  [Casual]   \n",
      "108615                      [Casual, Simulation]   \n",
      "108661                                   [Indie]   \n",
      "109299          [Adventure, Free to Play, Indie]   \n",
      "109300                 [Adventure, Free to Play]   \n",
      "109458                                  [Casual]   \n",
      "110210                              [Simulation]   \n",
      "111127                                       NaN   \n",
      "111706                                       NaN   \n",
      "112212          [Adventure, Free to Play, Indie]   \n",
      "112716                [Action, Adventure, Indie]   \n",
      "113877                           [Action, Indie]   \n",
      "113955         [Action, Casual, Indie, Strategy]   \n",
      "115282                                       NaN   \n",
      "115399                      [Simulation, Sports]   \n",
      "115570                   [Action, Casual, Indie]   \n",
      "115982                           [RPG, Strategy]   \n",
      "116400                             [Action, RPG]   \n",
      "116737                   [Action, Casual, Indie]   \n",
      "116892                              [Simulation]   \n",
      "118489                                  [Action]   \n",
      "119271                       [Action, Adventure]   \n",
      "119713                               [Adventure]   \n",
      "119852             [Action, Free to Play, Indie]   \n",
      "120307  [Action, Casual, Indie, RPG, Simulation]   \n",
      "\n",
      "                                              app_name  \\\n",
      "89819                     The Dream Machine: Chapter 4   \n",
      "100232                                         WARZONE   \n",
      "101963                                         The Fog   \n",
      "102883                Wolfenstein II: The New Colossus   \n",
      "105108                                         Castles   \n",
      "106374                                           Prism   \n",
      "107374                                       Solitaire   \n",
      "108615                                          Colony   \n",
      "108661                                      Soundtrack   \n",
      "109299                           Invisible Apartment 2   \n",
      "109300                        Invisible Apartment Zero   \n",
      "109458                                            Taxi   \n",
      "110210                                  Ultimate Arena   \n",
      "111127                                     See No Evil   \n",
      "111706                                            Hero   \n",
      "112212                                      Black Rose   \n",
      "112716                                        Parasite   \n",
      "113877                                        Invasion   \n",
      "113955                                      Streamline   \n",
      "115282                                            Goro   \n",
      "115399                         Total Extreme Wrestling   \n",
      "115570                                     Dark Matter   \n",
      "115982                                 Warhammer Quest   \n",
      "116400                                      Soundtrack   \n",
      "116737                                        Borealis   \n",
      "116892                          New York Bus Simulator   \n",
      "118489  Aliens: Colonial Marines - Reconnaissance Pack   \n",
      "119271  Batman: Arkham City - Game of the Year Edition   \n",
      "119713                                       Alter Ego   \n",
      "119852                                        Altitude   \n",
      "120307                               MORE SWEATER? OK!   \n",
      "\n",
      "                                                 title       release_date  \\\n",
      "89819                     The Dream Machine: Chapter 4         2013-08-05   \n",
      "100232                                         WARZONE         2017-10-17   \n",
      "101963                                         The Fog         2017-12-01   \n",
      "102883                Wolfenstein II: The New Colossus         2017-10-26   \n",
      "105108                                         Castles         1991-01-02   \n",
      "106374                                           Prism  Early Access soon   \n",
      "107374                                       Solitaire         2017-02-20   \n",
      "108615                                          Colony         2016-11-29   \n",
      "108661                                      Soundtrack         2016-11-28   \n",
      "109299                           Invisible Apartment 2         2016-10-17   \n",
      "109300                        Invisible Apartment Zero         2015-05-06   \n",
      "109458                                            Taxi         2016-02-19   \n",
      "110210                                  Ultimate Arena         2016-08-22   \n",
      "111127                                     See No Evil         2006-11-28   \n",
      "111706                                            Hero         2004-11-30   \n",
      "112212                                      Black Rose         2016-03-12   \n",
      "112716                                        Parasite         2016-01-19   \n",
      "113877                                        Invasion         2015-09-18   \n",
      "113955                                      Streamline         2015-08-21   \n",
      "115282                                            Goro         2015-04-14   \n",
      "115399                         Total Extreme Wrestling         2015-03-19   \n",
      "115570                                     Dark Matter         2015-02-27   \n",
      "115982                                 Warhammer Quest         2015-01-07   \n",
      "116400                                      Soundtrack         2014-10-28   \n",
      "116737                                        Borealis         2014-09-02   \n",
      "116892                          New York Bus Simulator         2009-12-11   \n",
      "118489  Aliens: Colonial Marines - Reconnaissance Pack         2013-05-07   \n",
      "119271  Batman: Arkham City - Game of the Year Edition         2012-09-07   \n",
      "119713                                       Alter Ego         2010-08-03   \n",
      "119852                                        Altitude         2009-12-04   \n",
      "120307                               MORE SWEATER? OK!         2017-12-29   \n",
      "\n",
      "                                                     tags  \\\n",
      "89819                          [Adventure, Indie, Casual]   \n",
      "100232           [Indie, Strategy, Massively Multiplayer]   \n",
      "101963  [Action, Adventure, Indie, Horror, Survival Ho...   \n",
      "102883  [Action, FPS, Gore, Violent, Alternate History...   \n",
      "105108                              [Adventure, Strategy]   \n",
      "106374  [Indie, Adventure, RPG, Action, Casual, Shoot ...   \n",
      "107374                                [Casual, Card Game]   \n",
      "108615                               [Casual, Simulation]   \n",
      "108661                                            [Indie]   \n",
      "109299  [Adventure, Indie, Free to Play, Visual Novel,...   \n",
      "109300  [Adventure, Free to Play, Hacking, Visual Nove...   \n",
      "109458                                           [Casual]   \n",
      "110210  [Simulation, Memes, Funny, Illuminati, Indie, ...   \n",
      "111127                            [Movie, Action, Horror]   \n",
      "111706   [Movie, Martial Arts, Foreign, Action-Adventure]   \n",
      "112212  [Free to Play, Horror, Indie, Adventure, Survi...   \n",
      "112716             [Adventure, Indie, Action, Platformer]   \n",
      "113877  [Indie, Action, Gore, Fast-Paced, Great Soundt...   \n",
      "113955                  [Action, Strategy, Indie, Casual]   \n",
      "115282                                                NaN   \n",
      "115399        [Wrestling, Simulation, Sports, Management]   \n",
      "115570  [Casual, Action, Indie, Shoot 'Em Up, 2D, Arca...   \n",
      "115982  [RPG, Strategy, Games Workshop, Turn-Based, Bo...   \n",
      "116400                                      [Action, RPG]   \n",
      "116737  [Casual, Indie, Action, Music-Based Procedural...   \n",
      "116892                              [Simulation, Driving]   \n",
      "118489                                           [Action]   \n",
      "119271  [Action, Open World, Batman, Adventure, Stealt...   \n",
      "119713     [Adventure, Point & Click, Mystery, Detective]   \n",
      "119852  [Free to Play, Action, Indie, Multiplayer, 2D,...   \n",
      "120307  [Casual, Action, Indie, RPG, Simulation, Singl...   \n",
      "\n",
      "                                                    specs  price      id  \\\n",
      "89819   [Single-player, Downloadable Content, Steam Tr...    NaN   94304   \n",
      "100232  [Single-player, Multi-player, Online Multi-Pla...   9.99  712230   \n",
      "101963        [Single-player, Partial Controller Support]   9.99  739030   \n",
      "102883  [Single-player, Steam Achievements, Full contr...  59.99  612880   \n",
      "105108                                    [Single-player]   9.99  666660   \n",
      "106374  [Single-player, Steam Achievements, Steam Trad...    NaN  443590   \n",
      "107374  [Single-player, Steam Achievements, Full contr...   9.99  539300   \n",
      "108615        [Single-player, Partial Controller Support]   0.99  509450   \n",
      "108661              [Single-player, Downloadable Content]   2.99  561720   \n",
      "109299              [Single-player, Downloadable Content]   7.99  543220   \n",
      "109300              [Single-player, Downloadable Content]   5.99  543230   \n",
      "109458   [Single-player, Steam Achievements, Steam Cloud]   1.99  488080   \n",
      "110210  [Single-player, Steam Achievements, Steam Trad...   2.99  385240   \n",
      "111127                               [Captions available]   3.99  468690   \n",
      "111706                                                NaN   3.99  426460   \n",
      "112212        [Single-player, Partial Controller Support]    NaN  453890   \n",
      "112716           [Single-player, Full controller support]   4.99  434270   \n",
      "113877               [Single-player, Steam Trading Cards]   1.99  397980   \n",
      "113955                                    [Single-player]  10.99  393660   \n",
      "115282                             [Downloadable Content]   4.99  347890   \n",
      "115399                                    [Single-player]  19.99  344810   \n",
      "115570        [Single-player, Partial Controller Support]   4.99  345130   \n",
      "115982  [Single-player, Steam Achievements, Steam Trad...  14.99  326670   \n",
      "116400  [Single-player, Downloadable Content, Steam Ac...  29.99  327270   \n",
      "116737  [Single-player, Steam Achievements, Steam Trad...   4.99  307170   \n",
      "116892                                    [Single-player]   9.99  283580   \n",
      "118489  [Single-player, Multi-player, Co-op, Downloada...  29.99  219441   \n",
      "119271  [Single-player, Steam Achievements, Steam Trad...  19.99     NaN   \n",
      "119713                                    [Single-player]   9.99   63110   \n",
      "119852  [Single-player, Multi-player, Cross-Platform M...    NaN   41300   \n",
      "120307  [Single-player, Steam Cloud, Stats, Steam Lead...   1.99  746050   \n",
      "\n",
      "                                         developer  \n",
      "89819                               Cockroach Inc.  \n",
      "100232                                   KEA Games  \n",
      "101963                               Horizon Games  \n",
      "102883                               Machine Games  \n",
      "105108                        Quicksilver Software  \n",
      "106374                          monkey king studio  \n",
      "107374                                 Sanuk Games  \n",
      "108615                            Jamie Cunningham  \n",
      "108661                               Green Sawdust  \n",
      "109299             Milan Kazarka,Jeroen van Oosten  \n",
      "109300             Milan Kazarka,Jeroen van Oosten  \n",
      "109458                      petraguardsoftware.com  \n",
      "110210                                   Triverske  \n",
      "111127                                         NaN  \n",
      "111706                                         NaN  \n",
      "112212                      Sir Bedlam Productions  \n",
      "112716                            Raphael Gervaise  \n",
      "113877                                Hipix Studio  \n",
      "113955                          Frostcloud Studios  \n",
      "115282                                         NaN  \n",
      "115399                           Grey Dog Software  \n",
      "115570                                   Meridian4  \n",
      "115982                       Rodeo Games,Twistplay  \n",
      "116400                            CI Games,Deck 13  \n",
      "116737                               Conrad Nelson  \n",
      "116892                                 TML-Studios  \n",
      "118489                            Gearbox Software  \n",
      "119271  Rocksteady Studios,Feral Interactive (Mac)  \n",
      "119713                           bitComposer Games  \n",
      "119852                                Nimbly Games  \n",
      "120307                          Triple-Star Studio  \n"
     ]
    }
   ],
   "source": [
    "# Verifica si hay duplicados en la columna 'title'\n",
    "duplicates = data_cleaned['title'].duplicated()\n",
    "\n",
    "# Muestra las filas que tienen títulos duplicados\n",
    "duplicated_rows = data_cleaned[duplicates]\n",
    "print(duplicated_rows)"
   ]
  },
  {
   "cell_type": "code",
   "execution_count": 89,
   "metadata": {},
   "outputs": [
    {
     "name": "stdout",
     "output_type": "stream",
     "text": [
      "<class 'pandas.core.frame.DataFrame'>\n",
      "Index: 30067 entries, 88310 to 120443\n",
      "Data columns (total 9 columns):\n",
      " #   Column     Non-Null Count  Dtype  \n",
      "---  ------     --------------  -----  \n",
      " 0   genres     28833 non-null  object \n",
      " 1   app_name   30067 non-null  object \n",
      " 2   title      30067 non-null  object \n",
      " 3   tags       29906 non-null  object \n",
      " 4   specs      29398 non-null  object \n",
      " 5   price      27242 non-null  object \n",
      " 6   id         30066 non-null  object \n",
      " 7   developer  28818 non-null  object \n",
      " 8   year       29782 non-null  float64\n",
      "dtypes: float64(1), object(8)\n",
      "memory usage: 2.3+ MB\n"
     ]
    }
   ],
   "source": [
    "# Convertir 'release_date' a formato de fecha y obtener el año\n",
    "data_cleaned['release_date'] = pd.to_datetime(data_cleaned['release_date'], errors='coerce')\n",
    "data_cleaned['year'] = data_cleaned['release_date'].dt.year\n",
    "\n",
    "# Eliminar la columna 'release_date' original\n",
    "data_cleaned.drop(columns=['release_date'], inplace=True)\n",
    "\n",
    "# Mostrar información del DataFrame resultante\n",
    "data_cleaned.info()"
   ]
  },
  {
   "cell_type": "code",
   "execution_count": 91,
   "metadata": {},
   "outputs": [],
   "source": [
    "# Guardar el DataFrame modificado en un archivo CSV\n",
    "data_cleaned.to_csv('steam_games.csv', index=False)"
   ]
  },
  {
   "cell_type": "code",
   "execution_count": 24,
   "metadata": {},
   "outputs": [
    {
     "data": {
      "text/plain": [
       "True"
      ]
     },
     "execution_count": 24,
     "metadata": {},
     "output_type": "execute_result"
    }
   ],
   "source": [
    "data_cleaned['id'].duplicated().any()"
   ]
  },
  {
   "cell_type": "code",
   "execution_count": 2,
   "metadata": {},
   "outputs": [
    {
     "name": "stdout",
     "output_type": "stream",
     "text": [
      "Primeras filas del DataFrame:\n",
      "                                              genres                 app_name  \\\n",
      "0  ['Action', 'Casual', 'Indie', 'Simulation', 'S...      Lost Summoner Kitty   \n",
      "1       ['Free to Play', 'Indie', 'RPG', 'Strategy']                Ironbound   \n",
      "2  ['Casual', 'Free to Play', 'Indie', 'Simulatio...  Real Pool 3D - Poolians   \n",
      "3                  ['Action', 'Adventure', 'Casual']                  弹炸人2222   \n",
      "4              ['Action', 'Adventure', 'Simulation']    Battle Royale Trainer   \n",
      "\n",
      "                     title                                               tags  \\\n",
      "0      Lost Summoner Kitty  ['Strategy', 'Action', 'Indie', 'Casual', 'Sim...   \n",
      "1                Ironbound  ['Free to Play', 'Strategy', 'Indie', 'RPG', '...   \n",
      "2  Real Pool 3D - Poolians  ['Free to Play', 'Simulation', 'Sports', 'Casu...   \n",
      "3                  弹炸人2222                  ['Action', 'Adventure', 'Casual']   \n",
      "4    Battle Royale Trainer  ['Action', 'Adventure', 'Simulation', 'FPS', '...   \n",
      "\n",
      "                                               specs  price        id  \\\n",
      "0                                  ['Single-player']   4.99  761140.0   \n",
      "1  ['Single-player', 'Multi-player', 'Online Mult...    NaN  643980.0   \n",
      "2  ['Single-player', 'Multi-player', 'Online Mult...    NaN  670290.0   \n",
      "3                                  ['Single-player']   0.99  767400.0   \n",
      "4            ['Single-player', 'Steam Achievements']   3.99  772540.0   \n",
      "\n",
      "             developer    year  \n",
      "0            Kotoshiro  2018.0  \n",
      "1     Secret Level SRL  2018.0  \n",
      "2         Poolians.com  2017.0  \n",
      "3                 彼岸领域  2017.0  \n",
      "4  Trickjump Games Ltd  2018.0  \n"
     ]
    }
   ],
   "source": [
    "import pandas as pd\n",
    "# Cargar los datos\n",
    "data = pd.read_csv('steam_games.csv')\n",
    "\n",
    "# Mostrar las primeras filas del DataFrame\n",
    "print(\"Primeras filas del DataFrame:\")\n",
    "print(data.head())"
   ]
  },
  {
   "cell_type": "code",
   "execution_count": 3,
   "metadata": {},
   "outputs": [
    {
     "name": "stdout",
     "output_type": "stream",
     "text": [
      "\n",
      "Resumen estadístico:\n",
      "              price            id          year\n",
      "count  27242.000000  3.006600e+04  29782.000000\n",
      "mean       9.367760  4.439712e+05   2014.759183\n",
      "std       16.461657  1.842216e+05      3.508268\n",
      "min        0.490000  1.000000e+01   1970.000000\n",
      "25%        2.990000  3.218325e+05   2014.000000\n",
      "50%        4.990000  4.382650e+05   2016.000000\n",
      "75%        9.990000  5.888700e+05   2017.000000\n",
      "max      995.000000  2.028850e+06   2021.000000\n"
     ]
    }
   ],
   "source": [
    "# Resumen estadístico\n",
    "print(\"\\nResumen estadístico:\")\n",
    "print(data.describe())\n"
   ]
  },
  {
   "cell_type": "code",
   "execution_count": 4,
   "metadata": {},
   "outputs": [
    {
     "name": "stdout",
     "output_type": "stream",
     "text": [
      "\n",
      "Tabla de frecuencia para genres:\n",
      "genres\n",
      "['Action']                                                                      1878\n",
      "['Action', 'Indie']                                                             1648\n",
      "['Simulation']                                                                  1396\n",
      "['Casual', 'Simulation']                                                        1359\n",
      "['Action', 'Adventure', 'Indie']                                                1081\n",
      "                                                                                ... \n",
      "['Action', 'Adventure', 'Racing', 'Simulation', 'Strategy']                        1\n",
      "['Action', 'Adventure', 'Casual', 'Indie', 'Racing', 'Sports', 'Strategy']         1\n",
      "['Action', 'Adventure', 'Casual', 'Indie', 'Racing', 'Simulation', 'Sports']       1\n",
      "['Action', 'Massively Multiplayer', 'RPG', 'Strategy']                             1\n",
      "['Adventure', 'Casual', 'RPG', 'Simulation', 'Early Access']                       1\n",
      "Name: count, Length: 882, dtype: int64\n",
      "\n",
      "Tabla de frecuencia para app_name:\n",
      "app_name\n",
      "Soundtrack                                        3\n",
      "See No Evil                                       2\n",
      "Parasite                                          2\n",
      "Batman: Arkham City - Game of the Year Edition    2\n",
      "MORE SWEATER? OK!                                 2\n",
      "                                                 ..\n",
      "Fate/EXTELLA - Charming Bunny                     1\n",
      "Fate/EXTELLA - Sable Mage Outfit                  1\n",
      "Fate/EXTELLA - Gorgon Variant                     1\n",
      "Fate/EXTELLA - Original Mythic Outfit             1\n",
      "EXIT 2 - Directions                               1\n",
      "Name: count, Length: 30036, dtype: int64\n",
      "\n",
      "Tabla de frecuencia para title:\n",
      "title\n",
      "Soundtrack                                        3\n",
      "See No Evil                                       2\n",
      "Parasite                                          2\n",
      "Batman: Arkham City - Game of the Year Edition    2\n",
      "MORE SWEATER? OK!                                 2\n",
      "                                                 ..\n",
      "Fate/EXTELLA - Charming Bunny                     1\n",
      "Fate/EXTELLA - Sable Mage Outfit                  1\n",
      "Fate/EXTELLA - Gorgon Variant                     1\n",
      "Fate/EXTELLA - Original Mythic Outfit             1\n",
      "EXIT 2 - Directions                               1\n",
      "Name: count, Length: 30036, dtype: int64\n",
      "\n",
      "Tabla de frecuencia para tags:\n",
      "tags\n",
      "['Casual', 'Simulation']                                                                                                                           1289\n",
      "['Action']                                                                                                                                         1102\n",
      "['Simulation']                                                                                                                                     1079\n",
      "['Strategy', 'RPG', 'Indie']                                                                                                                        632\n",
      "['Strategy']                                                                                                                                        624\n",
      "                                                                                                                                                   ... \n",
      "['RPG', 'Indie', 'Adventure', 'Choices Matter', 'Choose Your Own Adventure', 'Text-Based']                                                            1\n",
      "['Strategy', 'RPG', 'Indie', 'Lovecraftian', 'Turn-Based', 'Online Co-Op', 'Software', 'Utilities', 'Sandbox', 'Party-Based RPG', 'Story Rich']       1\n",
      "['Free to Play', 'Strategy', 'RPG']                                                                                                                   1\n",
      "['Simulation', 'Adventure', 'Casual']                                                                                                                 1\n",
      "['Indie', 'Casual', 'Puzzle', 'Singleplayer', 'Atmospheric', 'Relaxing']                                                                              1\n",
      "Name: count, Length: 14144, dtype: int64\n",
      "\n",
      "Tabla de frecuencia para specs:\n",
      "specs\n",
      "['Single-player']                                                                                                                                                                                     2793\n",
      "['Single-player', 'Downloadable Content']                                                                                                                                                             1204\n",
      "['Single-player', 'Shared/Split Screen', 'Downloadable Content', 'Steam Achievements', 'Steam Trading Cards', 'Partial Controller Support', 'Steam Cloud', 'Steam Leaderboards']                      1015\n",
      "['Single-player', 'Steam Achievements']                                                                                                                                                                820\n",
      "['Multi-player', 'Co-op', 'Cross-Platform Multiplayer', 'Downloadable Content']                                                                                                                        756\n",
      "                                                                                                                                                                                                      ... \n",
      "['Single-player', 'Multi-player', 'Online Multi-Player', 'Online Co-op', 'Steam Trading Cards']                                                                                                          1\n",
      "['Multi-player', 'Online Multi-Player', 'Online Co-op', 'Cross-Platform Multiplayer']                                                                                                                    1\n",
      "['Multi-player', 'Online Multi-Player', 'Steam Achievements', 'Steam Trading Cards', 'Steam Workshop']                                                                                                   1\n",
      "['Single-player', 'Multi-player', 'Online Multi-Player', 'Local Multi-Player', 'Co-op', 'Online Co-op', 'Local Co-op', 'Steam Achievements', 'Partial Controller Support', 'Steam Cloud', 'Stats']       1\n",
      "['Multi-player', 'Co-op', 'Shared/Split Screen', 'Steam Achievements', 'Full controller support', 'Steam Trading Cards']                                                                                 1\n",
      "Name: count, Length: 3795, dtype: int64\n",
      "\n",
      "Tabla de frecuencia para developer:\n",
      "developer\n",
      "Ubisoft - San Francisco                     1259\n",
      "SmiteWorks USA, LLC                          813\n",
      "Dovetail Games                               253\n",
      "KOEI TECMO GAMES CO., LTD.                   232\n",
      "Paradox Development Studio                   156\n",
      "                                            ... \n",
      "Salus Games                                    1\n",
      "Class of  2016-2017                            1\n",
      "Pirotexnik                                     1\n",
      "ElVery333,Raquel Covelo Suarez,ATopeCode       1\n",
      "Bidoniera Games                                1\n",
      "Name: count, Length: 10984, dtype: int64\n"
     ]
    }
   ],
   "source": [
    "# Tablas de frecuencia para variables categóricas\n",
    "categoricas = data.select_dtypes(include=['object'])\n",
    "for columna in categoricas.columns:\n",
    "    print(f\"\\nTabla de frecuencia para {columna}:\")\n",
    "    print(data[columna].value_counts())\n"
   ]
  },
  {
   "cell_type": "code",
   "execution_count": 5,
   "metadata": {},
   "outputs": [
    {
     "name": "stdout",
     "output_type": "stream",
     "text": [
      "\n",
      "Análisis de valores perdidos:\n",
      "genres       1234\n",
      "app_name        0\n",
      "title           0\n",
      "tags          161\n",
      "specs         669\n",
      "price        2825\n",
      "id              1\n",
      "developer    1249\n",
      "year          285\n",
      "dtype: int64\n"
     ]
    }
   ],
   "source": [
    "# Análisis de valores perdidos\n",
    "print(\"\\nAnálisis de valores perdidos:\")\n",
    "print(data.isnull().sum())"
   ]
  }
 ],
 "metadata": {
  "kernelspec": {
   "display_name": "Python 3",
   "language": "python",
   "name": "python3"
  },
  "language_info": {
   "codemirror_mode": {
    "name": "ipython",
    "version": 3
   },
   "file_extension": ".py",
   "mimetype": "text/x-python",
   "name": "python",
   "nbconvert_exporter": "python",
   "pygments_lexer": "ipython3",
   "version": "3.11.4"
  }
 },
 "nbformat": 4,
 "nbformat_minor": 2
}
